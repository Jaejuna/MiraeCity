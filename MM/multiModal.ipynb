{
 "cells": [
  {
   "cell_type": "code",
   "execution_count": null,
   "metadata": {},
   "outputs": [],
   "source": [
    "import pandas as pd\n",
    "from autogluon.tabular import TabularDataset, TabularPredictor"
   ]
  },
  {
   "cell_type": "code",
   "execution_count": null,
   "metadata": {},
   "outputs": [],
   "source": [
    "# Load the data from the two CSV files\n",
    "image_features = pd.read_csv('C:/Users/user/git/MiraeCity/gesture/image_features_with_index_and_labels.csv')\n",
    "audio_features = pd.read_csv('C:/Users/user/git/MiraeCity/SR/test.csv')\n",
    "\n",
    "# Rename the 'place' column to 'index_mod' to match the image features DataFrame\n",
    "audio_features = audio_features.rename(columns={'place': 'index_mod'})\n",
    "\n",
    "# Merge the two DataFrames on the 'index_mod' column\n",
    "combined_features = pd.merge(image_features, audio_features, on='index_mod', how='outer')\n",
    "\n",
    "# Save the combined features to a new CSV file\n",
    "combined_features.to_csv('C:/Users/user/git/MiraeCity/combined_features.csv', index=False)"
   ]
  }
 ],
 "metadata": {
  "language_info": {
   "name": "python"
  },
  "orig_nbformat": 4
 },
 "nbformat": 4,
 "nbformat_minor": 2
}
