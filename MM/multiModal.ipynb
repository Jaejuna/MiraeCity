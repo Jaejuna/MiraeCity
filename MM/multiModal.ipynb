{
 "cells": [
  {
   "cell_type": "code",
   "execution_count": 2,
   "metadata": {},
   "outputs": [],
   "source": [
    "import pandas as pd\n",
    "from autogluon.tabular import TabularDataset, TabularPredictor"
   ]
  },
  {
   "cell_type": "code",
   "execution_count": 3,
   "metadata": {},
   "outputs": [],
   "source": [
    "# Load the data from the two CSV files\n",
    "image_features = pd.read_csv('C:/Users/user/git/MiraeCity/gesture/image_features_with_index_and_labels.csv')\n",
    "audio_features = pd.read_csv('C:/Users/user/git/MiraeCity/SR/test.csv')\n",
    "\n",
    "# Rename the 'place' column to 'index_mod' to match the image features DataFrame\n",
    "audio_features = audio_features.rename(columns={'place': 'index_mod'})\n",
    "\n",
    "# Merge the two DataFrames on the 'index_mod' column\n",
    "combined_features = pd.merge(image_features, audio_features, on='index_mod', how='outer')\n",
    "\n",
    "# Save the combined features to a new CSV file\n",
    "combined_features.to_csv('C:/Users/user/git/MiraeCity/combined_features.csv', index=False)"
   ]
  },
  {
   "cell_type": "code",
   "execution_count": 6,
   "metadata": {},
   "outputs": [
    {
     "name": "stderr",
     "output_type": "stream",
     "text": [
      "C:\\Users\\user\\AppData\\Local\\Temp\\ipykernel_6476\\2875153309.py:2: DtypeWarning: Columns (0,11) have mixed types. Specify dtype option on import or set low_memory=False.\n",
      "  df = pd.read_csv('../MM/combined_features.csv')\n"
     ]
    }
   ],
   "source": [
    "# Read the csv file into a DataFrame\n",
    "df = pd.read_csv('../MM/combined_features.csv')\n",
    "\n",
    "# Fill NaN values in the 'label' column with 0\n",
    "df['label'] = df['label'].fillna(0)\n",
    "\n",
    "# Save the DataFrame back to the csv file\n",
    "df.to_csv('image_features.csv', index=False)\n"
   ]
  },
  {
   "cell_type": "code",
   "execution_count": 11,
   "metadata": {},
   "outputs": [
    {
     "name": "stderr",
     "output_type": "stream",
     "text": [
      "C:\\Users\\user\\AppData\\Local\\Temp\\ipykernel_6476\\77017742.py:2: DtypeWarning: Columns (0,11) have mixed types. Specify dtype option on import or set low_memory=False.\n",
      "  df = pd.read_csv('../MM/combined_0.csv')\n"
     ]
    }
   ],
   "source": [
    "# Read the csv file into a DataFrame\n",
    "df = pd.read_csv('../MM/combined_0.csv')\n",
    "\n",
    "# Fill NaN values with the preceding values ('ffill') then the following ones ('bfill')\n",
    "df = df.fillna(method='ffill').fillna(method='bfill')\n",
    "\n",
    "# Save the DataFrame back to the csv file\n",
    "df.to_csv('final.csv', index=False)"
   ]
  },
  {
   "cell_type": "code",
   "execution_count": 12,
   "metadata": {},
   "outputs": [],
   "source": [
    "train_df = pd.read_csv('C:/Users/user/git/MiraeCity/MM/final.csv')\n",
    "\n",
    "train_data = TabularDataset(train_df)"
   ]
  },
  {
   "cell_type": "code",
   "execution_count": 14,
   "metadata": {},
   "outputs": [
    {
     "name": "stderr",
     "output_type": "stream",
     "text": [
      "No path specified. Models will be saved in: \"AutogluonModels\\ag-20230604_054828\\\"\n",
      "Presets specified: ['best_quality']\n",
      "Stack configuration (auto_stack=True): num_stack_levels=1, num_bag_folds=8, num_bag_sets=20\n",
      "Beginning AutoGluon training ... Time limit = 3600s\n",
      "AutoGluon will save models to \"AutogluonModels\\ag-20230604_054828\\\"\n",
      "AutoGluon Version:  0.7.0\n",
      "Python Version:     3.9.13\n",
      "Operating System:   Windows\n",
      "Platform Machine:   AMD64\n",
      "Platform Version:   10.0.22621\n",
      "Train Data Rows:    51402\n",
      "Train Data Columns: 780\n",
      "Label Column: label\n",
      "Preprocessing data ...\n",
      "AutoGluon infers your prediction problem is: 'multiclass' (because dtype of label-column == float, but few unique label-values observed and label-values can be converted to int).\n",
      "\t5 unique label values:  [3.0, 4.0, 0.0, 1.0, 2.0]\n",
      "\tIf 'multiclass' is not the correct problem_type, please manually specify the problem_type parameter during predictor init (You may specify problem_type as one of: ['binary', 'multiclass', 'regression'])\n",
      "Train Data Class Count: 5\n",
      "Using Feature Generators to preprocess the data ...\n",
      "Fitting AutoMLPipelineFeatureGenerator...\n",
      "\tAvailable Memory:                    20557.67 MB\n",
      "\tTrain Data (Original)  Memory Usage: 330.87 MB (1.6% of available memory)\n",
      "\tInferring data type of each feature based on column values. Set feature_metadata_in to manually specify special dtypes of the features.\n",
      "\tStage 1 Generators:\n",
      "\t\tFitting AsTypeFeatureGenerator...\n",
      "\tStage 2 Generators:\n",
      "\t\tFitting FillNaFeatureGenerator...\n",
      "\tStage 3 Generators:\n",
      "\t\tFitting IdentityFeatureGenerator...\n",
      "\t\tFitting CategoryFeatureGenerator...\n",
      "\t\t\tFitting CategoryMemoryMinimizeFeatureGenerator...\n",
      "\tStage 4 Generators:\n",
      "\t\tFitting DropUniqueFeatureGenerator...\n",
      "\tTypes of features in original data (raw dtype, special dtypes):\n",
      "\t\t('float', [])  : 777 | ['R_mean', 'R_std', 'R_skew', 'G_mean', 'G_std', ...]\n",
      "\t\t('object', []) :   3 | ['index_x', 'index_mod', 'index_y']\n",
      "\tTypes of features in processed data (raw dtype, special dtypes):\n",
      "\t\t('category', []) :   3 | ['index_x', 'index_mod', 'index_y']\n",
      "\t\t('float', [])    : 777 | ['R_mean', 'R_std', 'R_skew', 'G_mean', 'G_std', ...]\n",
      "\t2.6s = Fit runtime\n",
      "\t780 features in original data used to generate 780 features in processed data.\n",
      "\tTrain Data (Processed) Memory Usage: 319.77 MB (1.6% of available memory)\n",
      "Data preprocessing and feature engineering runtime = 3.13s ...\n",
      "AutoGluon will gauge predictive performance using evaluation metric: 'accuracy'\n",
      "\tTo change this, specify the eval_metric parameter of Predictor()\n",
      "AutoGluon will fit 2 stack levels (L1 to L2) ...\n",
      "Fitting 13 L1 models ...\n",
      "Fitting model: KNeighborsUnif_BAG_L1 ... Training model for up to 2397.31s of the 3596.86s of remaining time.\n",
      "\t0.9661\t = Validation score   (accuracy)\n",
      "\t1.42s\t = Training   runtime\n",
      "\t8.76s\t = Validation runtime\n",
      "Fitting model: KNeighborsDist_BAG_L1 ... Training model for up to 2386.07s of the 3585.62s of remaining time.\n",
      "\t0.9661\t = Validation score   (accuracy)\n",
      "\t1.09s\t = Training   runtime\n",
      "\t8.6s\t = Validation runtime\n",
      "Fitting model: NeuralNetFastAI_BAG_L1 ... Training model for up to 2375.33s of the 3574.88s of remaining time.\n",
      "\tFitting 8 child models (S1F1 - S1F8) | Fitting with ParallelLocalFoldFittingStrategy\n"
     ]
    }
   ],
   "source": [
    "#### autogluon\n",
    "label = 'label'\n",
    "eval_metric = 'accuracy'\n",
    "time_limit = 3600 * 1 # hrs\n",
    "\n",
    "predictor = TabularPredictor(\n",
    "    label=label, eval_metric=eval_metric\n",
    ").fit(train_data, presets='best_quality', time_limit=time_limit, ag_args_fit={'num_gpus': 0, 'num_cpus': 12})"
   ]
  },
  {
   "cell_type": "code",
   "execution_count": null,
   "metadata": {},
   "outputs": [],
   "source": [
    "### leaderboard\n",
    "predictor.leaderboard(silent=True)"
   ]
  }
 ],
 "metadata": {
  "kernelspec": {
   "display_name": "base",
   "language": "python",
   "name": "python3"
  },
  "language_info": {
   "codemirror_mode": {
    "name": "ipython",
    "version": 3
   },
   "file_extension": ".py",
   "mimetype": "text/x-python",
   "name": "python",
   "nbconvert_exporter": "python",
   "pygments_lexer": "ipython3",
   "version": "3.9.13"
  },
  "orig_nbformat": 4
 },
 "nbformat": 4,
 "nbformat_minor": 2
}
