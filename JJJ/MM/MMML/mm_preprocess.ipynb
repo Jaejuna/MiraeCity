{
 "cells": [
  {
   "cell_type": "code",
   "execution_count": 9,
   "metadata": {},
   "outputs": [],
   "source": [
    "import pandas as pd"
   ]
  },
  {
   "cell_type": "code",
   "execution_count": 8,
   "metadata": {},
   "outputs": [
    {
     "name": "stderr",
     "output_type": "stream",
     "text": [
      "C:\\Users\\user\\AppData\\Local\\Temp\\ipykernel_22176\\2134907548.py:22: FutureWarning: The default value of numeric_only in DataFrame.mean is deprecated. In a future version, it will default to False. In addition, specifying 'numeric_only=None' is deprecated. Select only valid columns or specify the value of numeric_only to silence this warning.\n",
      "  result_df = result_df.fillna(result_df.mean())\n"
     ]
    }
   ],
   "source": [
    "# importing data & concatenating bi-modal\n",
    "# 파일 경로 정의\n",
    "audio_path = './audio/data/audio_data.csv'\n",
    "gesture_path = './gesture/data/label/gest_data.csv'\n",
    "\n",
    "# csv 파일 읽기\n",
    "audio_df = pd.read_csv(audio_path)\n",
    "gesture_df = pd.read_csv(gesture_path)\n",
    "\n",
    "# audio_df 행 개수 늘리기\n",
    "repeat_times = gesture_df.shape[0] // audio_df.shape[0]\n",
    "audio_df = pd.concat([audio_df] * repeat_times, ignore_index=True)\n",
    "\n",
    "# 나머지 부분 채우기\n",
    "remaining_rows = gesture_df.shape[0] - audio_df.shape[0]\n",
    "audio_df = pd.concat([audio_df, audio_df.iloc[:remaining_rows]], ignore_index=True)\n",
    "\n",
    "# 두 데이터프레임을 concatenate\n",
    "result_df = pd.concat([gesture_df, audio_df], axis=1)\n",
    "\n",
    "# NaN 값들을 각 열의 평균값으로 채우기\n",
    "result_df = result_df.fillna(result_df.mean())\n",
    "\n",
    "# 두 데이터프레임을 가로로 합침\n",
    "# concatenated_df = pd.concat([audio_df, gesture_df], axis=1)\n",
    "\n",
    "# 결과 저장 (필요한 경우 저장 경로를 변경하세요)\n",
    "result_df.to_csv('./final_1.csv', index=False)\n"
   ]
  },
  {
   "cell_type": "code",
   "execution_count": 4,
   "metadata": {},
   "outputs": [
    {
     "name": "stdout",
     "output_type": "stream",
     "text": [
      "(189, 768)\n",
      "(6476, 4)\n"
     ]
    }
   ],
   "source": [
    "print(audio_df.shape)\n",
    "print(gesture_df.shape)"
   ]
  },
  {
   "cell_type": "code",
   "execution_count": 5,
   "metadata": {},
   "outputs": [
    {
     "name": "stdout",
     "output_type": "stream",
     "text": [
      "   mel_mean_0  mel_mean_1  mel_mean_2  mel_mean_3  mel_mean_4  mel_mean_5  \\\n",
      "0    0.091919    0.691242    0.965004    0.708111    0.700990    0.498808   \n",
      "1    0.071745    0.335172    0.415956    0.446907    0.325820    0.353347   \n",
      "2    0.074520    0.357586    0.369499    0.356609    0.255128    0.285246   \n",
      "3    0.064459    0.317958    0.384652    0.327147    0.236898    0.312657   \n",
      "4    0.088999    0.412952    0.433468    0.447594    0.310265    0.382017   \n",
      "5    0.160176    1.260619    0.759726    0.566863    0.508845    0.525884   \n",
      "6    0.391256    1.732897    0.582721    0.413054    0.429739    0.711365   \n",
      "7    0.132092    0.418193    0.387011    0.273176    0.324058    0.537282   \n",
      "8    0.139963    0.555881    0.684225    0.333531    0.313269    0.732457   \n",
      "9    0.103641    0.647448    0.425533    0.266088    0.209046    0.384941   \n",
      "\n",
      "   mel_mean_6  mel_mean_7  mel_mean_8  mel_mean_9  ...  mfcc_min_122  \\\n",
      "0    0.589114    0.582068    0.417784    1.238510  ...     -2.053332   \n",
      "1    0.534624    0.558364    0.507920    0.479113  ...     -4.262497   \n",
      "2    0.469610    0.523624    0.454641    0.345403  ...     -4.453591   \n",
      "3    0.434457    0.507955    0.471117    0.336169  ...     -3.362039   \n",
      "4    0.583906    0.684215    0.670984    0.568250  ...     -3.644349   \n",
      "5    0.720215    0.707619    0.759870    0.552835  ...     -4.378014   \n",
      "6    0.714703    0.656168    0.508139    0.207538  ...     -3.523799   \n",
      "7    0.678281    0.692404    0.395892    0.171331  ...     -2.730907   \n",
      "8    0.608804    0.753162    0.466149    0.156999  ...     -3.216527   \n",
      "9    0.651374    0.714258    0.362807    0.137358  ...     -4.375026   \n",
      "\n",
      "   mfcc_min_123  mfcc_min_124  mfcc_min_125  mfcc_min_126  mfcc_min_127  \\\n",
      "0     -2.234425     -3.438386     -3.077654     -3.789371     -2.139065   \n",
      "1     -4.035045     -4.822525     -4.459206     -4.080782     -3.140945   \n",
      "2     -4.509708     -4.531946     -5.131454     -3.514320     -2.252064   \n",
      "3     -3.180516     -3.981121     -1.769508     -2.393156     -3.165382   \n",
      "4     -3.870793     -4.463026     -3.345567     -1.834758     -2.014328   \n",
      "5     -2.628181     -3.097562     -2.924381     -2.831716     -2.035164   \n",
      "6     -3.841720     -2.658720     -2.610460     -2.820848     -2.682953   \n",
      "7     -2.115413     -1.749977     -1.567635     -2.675610     -3.408470   \n",
      "8     -3.400883     -1.821310     -2.970040     -1.937922     -3.676346   \n",
      "9     -2.821494     -3.562274     -5.155895     -2.546000     -4.907822   \n",
      "\n",
      "                                     sequence.2d_pos  \\\n",
      "0  [['2555.18', '1037.01', '0', '2557.42', '1047....   \n",
      "1  [['1244.65', '1335.89', '-1', '1301.41', '1354...   \n",
      "2  [['1937.58', '1582.93', '-1', '1980.88', '1599...   \n",
      "3  [['1770.49', '1581.18', '-1', '1826.63', '1595...   \n",
      "4  [['1879.07', '1360.01', '-1', '1920', '1379.55...   \n",
      "5  [['1258.58', '1327.45', '-1', '1299.51', '1351...   \n",
      "6  [['1936.74', '1584.58', '-1', '1976.93', '1599...   \n",
      "7  [['1787.16', '1581.23', '-1', '1827.34', '1595...   \n",
      "8  [['1890.28', '1354', '-1', '1924.82', '1379.17...   \n",
      "9  [['1771.62', '1382.79', '0', '1805.11', '1414....   \n",
      "\n",
      "                               sequence.bounding_box  info.s_weather  label  \n",
      "0  [['2507.57', '883.893', '2575.29', '1055.2'], ...              맑음      2  \n",
      "1  [['1174.41', '744.382', '1345.82', '1395.39'],...              맑음      2  \n",
      "2  [['1858.23', '999.751', '2019.42', '1639.26'],...              맑음      2  \n",
      "3  [['1702.99', '1003.36', '1859.15', '1638.94'],...              맑음      2  \n",
      "4  [['1834.55', '790.104', '1978.86', '1418.04'],...              맑음      2  \n",
      "5  [['1190.01', '755.399', '1347.14', '1396.1'], ...              맑음      2  \n",
      "6  [['1879.06', '1005.03', '2024.44', '1641'], ['...              맑음      2  \n",
      "7  [['1711.51', '1006.21', '1863.6', '1636.77'], ...              맑음      2  \n",
      "8  [['1839.49', '795.813', '1982.71', '1415.99'],...              맑음      2  \n",
      "9  [['1685.1', '772.874', '1844.55', '1452.1'], [...              맑음      2  \n",
      "\n",
      "[10 rows x 772 columns]\n",
      "(6476, 772)\n"
     ]
    }
   ],
   "source": [
    "# visualization\n",
    "#print(concatenated_df.head(10))\n",
    "#print(concatenated_df.shape)"
   ]
  },
  {
   "cell_type": "code",
   "execution_count": 10,
   "metadata": {},
   "outputs": [
    {
     "name": "stdout",
     "output_type": "stream",
     "text": [
      "(6476, 772)\n"
     ]
    }
   ],
   "source": [
    "print(result_df.shape)"
   ]
  }
 ],
 "metadata": {
  "kernelspec": {
   "display_name": "SpecTransformer",
   "language": "python",
   "name": "python3"
  },
  "language_info": {
   "codemirror_mode": {
    "name": "ipython",
    "version": 3
   },
   "file_extension": ".py",
   "mimetype": "text/x-python",
   "name": "python",
   "nbconvert_exporter": "python",
   "pygments_lexer": "ipython3",
   "version": "3.8.17"
  },
  "orig_nbformat": 4
 },
 "nbformat": 4,
 "nbformat_minor": 2
}
