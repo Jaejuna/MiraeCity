{
 "cells": [
  {
   "cell_type": "code",
   "execution_count": null,
   "metadata": {},
   "outputs": [],
   "source": [
    "import json\n",
    "import pandas as pd\n",
    "import glob\n",
    "import os"
   ]
  },
  {
   "cell_type": "code",
   "execution_count": null,
   "metadata": {},
   "outputs": [],
   "source": [
    "# json 2 csv\n",
    "\n",
    "# 모든 JSON 파일을 순회합니다.\n",
    "for file_name in glob.glob('./gesture/data/label/TL6/json/43/43/*.json'):\n",
    "    with open(file_name) as json_file:\n",
    "       data = json.load(json_file)\n",
    "\n",
    "    # JSON 데이터를 pandas DataFrame으로 변환합니다.\n",
    "    df = pd.json_normalize(data)\n",
    "\n",
    "    # DataFrame을 CSV로 저장합니다.\n",
    "    df.to_csv(file_name.replace('.json', '.csv'), index=False)\n",
    "    df = df[['sequence.2d_pos', 'sequence.bounding_box', 'info.s_weather']]\n",
    "    df['label'] = 1\n"
   ]
  },
  {
   "cell_type": "code",
   "execution_count": null,
   "metadata": {},
   "outputs": [],
   "source": [
    "# column filter\n",
    "\n",
    "# .csv 파일들이 있는 디렉토리를 지정합니다\n",
    "csv_dir = './gesture/data/label/TL4/json/32/32/'\n",
    "\n",
    "# 디렉토리 내 모든 .csv 파일들을 찾습니다\n",
    "csv_files = glob.glob(f'{csv_dir}*.csv')\n",
    "\n",
    "for file_name in csv_files:\n",
    "    # .csv 파일을 읽어옵니다\n",
    "    df = pd.read_csv(file_name)\n",
    "    \n",
    "    # 특정 열만 선택하여 새로운 DataFrame을 생성합니다\n",
    "    df = df[['sequence.2d_pos', 'sequence.bounding_box', 'info.s_weather']]\n",
    "\n",
    "    # 'label' 열을 추가하고 모든 값에 1을 할당합니다\n",
    "    df['label'] = 4\n",
    "    \n",
    "    # DataFrame을 새로운 .csv 파일로 저장합니다\n",
    "    df.to_csv(file_name, index=False)\n"
   ]
  },
  {
   "cell_type": "code",
   "execution_count": null,
   "metadata": {},
   "outputs": [],
   "source": [
    "# result\n",
    "print(df.head(10))"
   ]
  },
  {
   "cell_type": "code",
   "execution_count": null,
   "metadata": {},
   "outputs": [],
   "source": [
    "# csv concat\n",
    "\n",
    "# .csv 파일들이 있는 최상위 디렉토리를 지정합니다\n",
    "dir_path = './gesture/data/label/'\n",
    "\n",
    "# 최상위 디렉토리와 그 하위 모든 디렉토리에 있는 .csv 파일들의 경로를 찾습니다\n",
    "csv_files = sorted(glob.glob(f'{dir_path}**/*.csv', recursive=True))\n",
    "\n",
    "# 각 파일을 읽어서 리스트에 저장합니다\n",
    "dataframes = [pd.read_csv(file) for file in csv_files]\n",
    "\n",
    "# 모든 데이터프레임을 하나로 합칩니다\n",
    "concatenated_df = pd.concat(dataframes, axis=0, ignore_index=True)\n",
    "\n",
    "# 결과를 새로운 .csv 파일로 저장합니다\n",
    "output_path = os.path.join(dir_path, 'gest_data.csv')\n",
    "concatenated_df.to_csv(output_path, index=False)\n"
   ]
  }
 ],
 "metadata": {
  "kernelspec": {
   "display_name": "base",
   "language": "python",
   "name": "python3"
  },
  "language_info": {
   "codemirror_mode": {
    "name": "ipython",
    "version": 3
   },
   "file_extension": ".py",
   "mimetype": "text/x-python",
   "name": "python",
   "nbconvert_exporter": "python",
   "pygments_lexer": "ipython3",
   "version": "3.9.13"
  },
  "orig_nbformat": 4
 },
 "nbformat": 4,
 "nbformat_minor": 2
}
