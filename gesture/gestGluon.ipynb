{
 "cells": [
  {
   "cell_type": "code",
   "execution_count": 19,
   "metadata": {},
   "outputs": [],
   "source": [
    "import pandas as pd\n",
    "import numpy as np\n",
    "import os\n",
    "from tqdm.auto import tqdm\n",
    "\n",
    "from autogluon.tabular import TabularDataset, TabularPredictor\n",
    "\n",
    "import glob\n",
    "\n",
    "import torch\n",
    "from torchvision import models, transforms\n",
    "import cv2\n",
    "from PIL import Image\n",
    "from scipy.stats import skew"
   ]
  },
  {
   "cell_type": "code",
   "execution_count": 12,
   "metadata": {},
   "outputs": [],
   "source": [
    "\n",
    "rootdir = 'C:/Users/user/git/MiraeCity/gesture/labels/txt/'\n",
    "\n",
    "# Get all txt files in root directory\n",
    "txt_files = glob.glob(os.path.join(rootdir, '*.txt'))\n",
    "\n",
    "for txt_file in txt_files:\n",
    "    # Read txt file\n",
    "    with open(txt_file, 'r') as f:\n",
    "        data = f.readlines()\n",
    "    \n",
    "    # Split each line into index and label\n",
    "    records = [line.split() for line in data]\n",
    "    \n",
    "    # Convert to DataFrame\n",
    "    df = pd.DataFrame(records, columns=['index', 'label'])\n",
    "    \n",
    "    # Convert txt file name to csv\n",
    "    csv_file = txt_file.replace('.txt', '.csv')\n",
    "    \n",
    "    # Save as csv\n",
    "    df.to_csv(csv_file, index=False)"
   ]
  },
  {
   "cell_type": "code",
   "execution_count": 13,
   "metadata": {},
   "outputs": [
    {
     "name": "stdout",
     "output_type": "stream",
     "text": [
      "True\n"
     ]
    }
   ],
   "source": [
    "print(torch.cuda.is_available())"
   ]
  },
  {
   "cell_type": "code",
   "execution_count": 2,
   "metadata": {},
   "outputs": [],
   "source": [
    "def extract_frames(video_dir, output_dir):\n",
    "    \n",
    "    # Get all the .mp4 files in the directory\n",
    "    videos = glob.glob(os.path.join(video_dir, '*.mp4'))\n",
    "\n",
    "    # Make sure the output directory exists\n",
    "    os.makedirs(output_dir, exist_ok=True)\n",
    "\n",
    "    # Iterate over each video\n",
    "    for video_path in videos:\n",
    "        \n",
    "        # Get the video filename without the extension\n",
    "        video_name = os.path.splitext(os.path.basename(video_path))[0]\n",
    "        \n",
    "        # Open the video file\n",
    "        video = cv2.VideoCapture(video_path)\n",
    "\n",
    "        # Initialize the frame count\n",
    "        count = 0\n",
    "\n",
    "        while True:\n",
    "            # Read the next frame\n",
    "            ret, frame = video.read()\n",
    "\n",
    "            # If the frame is not valid, break the loop\n",
    "            if not ret:\n",
    "                break\n",
    "\n",
    "            # Write the frame to a JPEG file\n",
    "            frame_name = f\"{video_name}_frame{count:04d}.jpg\"\n",
    "            cv2.imwrite(os.path.join(output_dir, frame_name), frame)\n",
    "\n",
    "            # Increment the frame count\n",
    "            count += 1\n",
    "\n",
    "        # Release the video file\n",
    "        video.release()"
   ]
  },
  {
   "cell_type": "code",
   "execution_count": null,
   "metadata": {},
   "outputs": [],
   "source": [
    "extract_frames('../gesture/data/test', '../gesture/data/test_img')\n",
    "# extract_frames('../gesture/data/val', '../gesture/data/val_img')"
   ]
  },
  {
   "cell_type": "code",
   "execution_count": 3,
   "metadata": {},
   "outputs": [],
   "source": [
    "##### data preprocessing\n",
    "# Instantiate a pre-trained ResNet50 model\n",
    "model = models.resnet50(pretrained=True)\n",
    "model = torch.nn.Sequential(*(list(model.children())[:-1]))  # remove the last layer\n",
    "model.eval()\n",
    "\n",
    "# Transformation pipeline\n",
    "transform = transforms.Compose([\n",
    "    transforms.Resize(256),\n",
    "    transforms.CenterCrop(224),\n",
    "    transforms.ToTensor(),\n",
    "    transforms.Normalize(mean=[0.485, 0.456, 0.406], std=[0.229, 0.224, 0.225]),\n",
    "])"
   ]
  },
  {
   "cell_type": "code",
   "execution_count": 20,
   "metadata": {},
   "outputs": [
    {
     "name": "stderr",
     "output_type": "stream",
     "text": [
      "C:\\Users\\user\\AppData\\Local\\Temp\\ipykernel_12116\\571495589.py:30: FutureWarning: The frame.append method is deprecated and will be removed from pandas in a future version. Use pandas.concat instead.\n",
      "  df = df.append(pd.Series(features), ignore_index=True)\n",
      "C:\\Users\\user\\AppData\\Local\\Temp\\ipykernel_12116\\571495589.py:30: FutureWarning: The frame.append method is deprecated and will be removed from pandas in a future version. Use pandas.concat instead.\n",
      "  df = df.append(pd.Series(features), ignore_index=True)\n"
     ]
    }
   ],
   "source": [
    "# Function to extract features from an image\n",
    "def extract_features(image_path):\n",
    "    # Read the image\n",
    "    image = cv2.imread(image_path)\n",
    "\n",
    "    # Calculate the mean, std dev and skewness of each color channel\n",
    "    features = []\n",
    "    for channel in cv2.split(image):\n",
    "        features.append(np.mean(channel))\n",
    "        features.append(np.std(channel))\n",
    "        features.append(skew(channel.ravel()))\n",
    "\n",
    "    return features\n",
    "\n",
    "# Directory containing images\n",
    "image_dir = 'C:/Users/user/git/MiraeCity/gesture/data/test_img'\n",
    "\n",
    "# Dataframe to hold features\n",
    "df = pd.DataFrame()\n",
    "\n",
    "# Loop through each image in the directory\n",
    "for image_path in os.listdir(image_dir):\n",
    "    # Get full image path\n",
    "    full_path = os.path.join(image_dir, image_path)\n",
    "\n",
    "    # Extract features from the image\n",
    "    features = extract_features(full_path)\n",
    "\n",
    "    # Add features to dataframe\n",
    "    df = df.append(pd.Series(features), ignore_index=True)\n",
    "\n",
    "# Add column names to the dataframe\n",
    "df.columns = ['R_mean', 'R_std', 'R_skew', 'G_mean', 'G_std', 'G_skew', 'B_mean', 'B_std', 'B_skew']\n",
    "\n",
    "# Save the dataframe to a csv file\n",
    "df.to_csv('image_features.csv', index=False)"
   ]
  },
  {
   "cell_type": "code",
   "execution_count": 21,
   "metadata": {},
   "outputs": [],
   "source": [
    "# Directory containing images\n",
    "image_dir = 'C:/Users/user/git/MiraeCity/gesture/data/test_img'\n",
    "\n",
    "# Read the existing CSV file\n",
    "df = pd.read_csv('image_features.csv')\n",
    "\n",
    "# Add an 'index' column with the file names from the image directory\n",
    "df['index'] = [os.path.splitext(f)[0] for f in os.listdir(image_dir) if f.endswith('.jpg')]\n",
    "\n",
    "# Reorder the columns to put 'index' first\n",
    "df = df[['index', 'R_mean', 'R_std', 'R_skew', 'G_mean', 'G_std', 'G_skew', 'B_mean', 'B_std', 'B_skew']]\n",
    "\n",
    "# Write the updated DataFrame to a new CSV file\n",
    "df.to_csv('image_features_with_index.csv', index=False)"
   ]
  },
  {
   "cell_type": "code",
   "execution_count": 23,
   "metadata": {},
   "outputs": [],
   "source": [
    "# Read the existing CSV file\n",
    "df = pd.read_csv('image_features_with_index.csv')\n",
    "\n",
    "# Remove the part after '_frame' from the 'index' column\n",
    "df['index'] = df['index'].apply(lambda x: x.split('_frame')[0])\n",
    "\n",
    "# Read the labels from the txt file\n",
    "labels = pd.read_csv('C:/Users/user/git/MiraeCity/gesture/labels/txt/test_ann.txt', \n",
    "                     sep=\" \", \n",
    "                     header=None, \n",
    "                     names=['index', 'label'])\n",
    "\n",
    "# Remove the '.mp4' extension from the 'index' column in the labels DataFrame\n",
    "labels['index'] = labels['index'].str.replace('.mp4', '', regex=False)\n",
    "\n",
    "# Merge the features and labels DataFrames on the 'index' column\n",
    "df = pd.merge(df, labels, on='index', how='outer')\n",
    "\n",
    "# Write the updated DataFrame to a new CSV file\n",
    "df.to_csv('image_features_with_index_and_labels.csv', index=False)"
   ]
  },
  {
   "cell_type": "code",
   "execution_count": null,
   "metadata": {},
   "outputs": [],
   "source": [
    "extract_features('C:/Users/user/git/MiraeCity/gesture/data/test_img')\n",
    "#extract_features('../gesture/data/val_img')"
   ]
  },
  {
   "cell_type": "code",
   "execution_count": null,
   "metadata": {},
   "outputs": [],
   "source": [
    "\n",
    "# train_df = pd.read_csv('C:/Users/user/git/MiraeCity/gesture/labels/csv/train_ann.csv')\n",
    "# test_df = pd.read_csv('C:/Users/user/git/MiraeCity/gesture/labels/csv/test_ann.csv')\n",
    "\n",
    "train_data = TabularDataset(train_df)\n",
    "test_data = TabularDataset(test_df)"
   ]
  },
  {
   "cell_type": "code",
   "execution_count": 18,
   "metadata": {},
   "outputs": [],
   "source": [
    "def get_file_type(filename):\n",
    "    extension = os.path.splitext(filename)[1]\n",
    "    if extension in ['.jpg', '.jpeg', '.png']:\n",
    "        return 'image'\n",
    "    elif extension == '.mp4':\n",
    "        return 'video'\n",
    "    else:\n",
    "        return 'unknown'\n",
    "\n",
    "# Directory containing images and videos\n",
    "data_dir = 'C:/Users/user/git/MiraeCity/gesture/data/test_img/'\n",
    "\n",
    "# Get list of all file names in the directory\n",
    "file_names = os.listdir(data_dir)\n",
    "\n",
    "# Create a DataFrame\n",
    "df = pd.DataFrame(file_names, columns=['filename'])\n",
    "\n",
    "# Add a column specifying the data type of each file\n",
    "df['data_type'] = df['filename'].apply(get_file_type)\n",
    "\n"
   ]
  },
  {
   "cell_type": "code",
   "execution_count": null,
   "metadata": {},
   "outputs": [],
   "source": [
    "#### autogluon\n",
    "label = 'label'\n",
    "eval_metric = 'accuracy'\n",
    "time_limit = 3600 * 0.5 # hrs\n",
    "\n",
    "predictor = TabularPredictor(\n",
    "    label=label, eval_metric=eval_metric\n",
    ").fit(train_data, presets='best_quality', time_limit=time_limit, ag_args_fit={'num_gpus': 0, 'num_cpus': 12})"
   ]
  }
 ],
 "metadata": {
  "kernelspec": {
   "display_name": "base",
   "language": "python",
   "name": "python3"
  },
  "language_info": {
   "codemirror_mode": {
    "name": "ipython",
    "version": 3
   },
   "file_extension": ".py",
   "mimetype": "text/x-python",
   "name": "python",
   "nbconvert_exporter": "python",
   "pygments_lexer": "ipython3",
   "version": "3.9.13"
  },
  "orig_nbformat": 4
 },
 "nbformat": 4,
 "nbformat_minor": 2
}
